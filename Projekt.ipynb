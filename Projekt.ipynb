{
  "nbformat": 4,
  "nbformat_minor": 0,
  "metadata": {
    "colab": {
      "provenance": [],
      "collapsed_sections": [
        "mOT_En2-Tle-",
        "RuryQwxDXQJj",
        "tO8PQSSlXvmt",
        "S5pYC3I6Y-eB"
      ],
      "authorship_tag": "ABX9TyNoOsPOnYVhaqRTkLmhgKTe",
      "include_colab_link": true
    },
    "kernelspec": {
      "name": "python3",
      "display_name": "Python 3"
    },
    "language_info": {
      "name": "python"
    }
  },
  "cells": [
    {
      "cell_type": "markdown",
      "metadata": {
        "id": "view-in-github",
        "colab_type": "text"
      },
      "source": [
        "<a href=\"https://colab.research.google.com/github/rakijja/Projekt_klasyfikacja_nadzorowana/blob/main/Projekt.ipynb\" target=\"_parent\"><img src=\"https://colab.research.google.com/assets/colab-badge.svg\" alt=\"Open In Colab\"/></a>"
      ]
    },
    {
      "cell_type": "markdown",
      "source": [
        "## Wstęp"
      ],
      "metadata": {
        "id": "y4wXF7J5PTzg"
      }
    },
    {
      "cell_type": "code",
      "execution_count": 3,
      "metadata": {
        "id": "3U1LMG7AoJur"
      },
      "outputs": [],
      "source": [
        "# import bibliotek\n",
        "import numpy as np\n",
        "import pandas as pd\n",
        "import sklearn\n",
        "\n",
        "from sklearn.model_selection import train_test_split\n",
        "from sklearn.ensemble import RandomForestClassifier\n",
        "from sklearn.metrics import classification_report\n",
        "from sklearn.ensemble import BaggingClassifier\n",
        "from sklearn.tree import DecisionTreeClassifier\n",
        "from sklearn.ensemble import AdaBoostClassifier\n",
        "\n",
        "from google.colab import files\n",
        "import io"
      ]
    },
    {
      "cell_type": "code",
      "source": [
        "# ustawienie ziarna\n",
        "seed = 123\n",
        "\n",
        "np.random.seed(seed)"
      ],
      "metadata": {
        "id": "oUNobs3l4Obh"
      },
      "execution_count": 78,
      "outputs": []
    },
    {
      "cell_type": "code",
      "source": [
        "# wczytywanie danych\n",
        "uploaded = files.upload()"
      ],
      "metadata": {
        "colab": {
          "base_uri": "https://localhost:8080/",
          "height": 73
        },
        "id": "vYy2aKCsukVv",
        "outputId": "dfb4de84-aa0c-426f-b081-f5e4171bc3f5"
      },
      "execution_count": 163,
      "outputs": [
        {
          "output_type": "display_data",
          "data": {
            "text/plain": [
              "<IPython.core.display.HTML object>"
            ],
            "text/html": [
              "\n",
              "     <input type=\"file\" id=\"files-a8bd6a80-6479-4d3f-ab66-956aeb76bd68\" name=\"files[]\" multiple disabled\n",
              "        style=\"border:none\" />\n",
              "     <output id=\"result-a8bd6a80-6479-4d3f-ab66-956aeb76bd68\">\n",
              "      Upload widget is only available when the cell has been executed in the\n",
              "      current browser session. Please rerun this cell to enable.\n",
              "      </output>\n",
              "      <script>// Copyright 2017 Google LLC\n",
              "//\n",
              "// Licensed under the Apache License, Version 2.0 (the \"License\");\n",
              "// you may not use this file except in compliance with the License.\n",
              "// You may obtain a copy of the License at\n",
              "//\n",
              "//      http://www.apache.org/licenses/LICENSE-2.0\n",
              "//\n",
              "// Unless required by applicable law or agreed to in writing, software\n",
              "// distributed under the License is distributed on an \"AS IS\" BASIS,\n",
              "// WITHOUT WARRANTIES OR CONDITIONS OF ANY KIND, either express or implied.\n",
              "// See the License for the specific language governing permissions and\n",
              "// limitations under the License.\n",
              "\n",
              "/**\n",
              " * @fileoverview Helpers for google.colab Python module.\n",
              " */\n",
              "(function(scope) {\n",
              "function span(text, styleAttributes = {}) {\n",
              "  const element = document.createElement('span');\n",
              "  element.textContent = text;\n",
              "  for (const key of Object.keys(styleAttributes)) {\n",
              "    element.style[key] = styleAttributes[key];\n",
              "  }\n",
              "  return element;\n",
              "}\n",
              "\n",
              "// Max number of bytes which will be uploaded at a time.\n",
              "const MAX_PAYLOAD_SIZE = 100 * 1024;\n",
              "\n",
              "function _uploadFiles(inputId, outputId) {\n",
              "  const steps = uploadFilesStep(inputId, outputId);\n",
              "  const outputElement = document.getElementById(outputId);\n",
              "  // Cache steps on the outputElement to make it available for the next call\n",
              "  // to uploadFilesContinue from Python.\n",
              "  outputElement.steps = steps;\n",
              "\n",
              "  return _uploadFilesContinue(outputId);\n",
              "}\n",
              "\n",
              "// This is roughly an async generator (not supported in the browser yet),\n",
              "// where there are multiple asynchronous steps and the Python side is going\n",
              "// to poll for completion of each step.\n",
              "// This uses a Promise to block the python side on completion of each step,\n",
              "// then passes the result of the previous step as the input to the next step.\n",
              "function _uploadFilesContinue(outputId) {\n",
              "  const outputElement = document.getElementById(outputId);\n",
              "  const steps = outputElement.steps;\n",
              "\n",
              "  const next = steps.next(outputElement.lastPromiseValue);\n",
              "  return Promise.resolve(next.value.promise).then((value) => {\n",
              "    // Cache the last promise value to make it available to the next\n",
              "    // step of the generator.\n",
              "    outputElement.lastPromiseValue = value;\n",
              "    return next.value.response;\n",
              "  });\n",
              "}\n",
              "\n",
              "/**\n",
              " * Generator function which is called between each async step of the upload\n",
              " * process.\n",
              " * @param {string} inputId Element ID of the input file picker element.\n",
              " * @param {string} outputId Element ID of the output display.\n",
              " * @return {!Iterable<!Object>} Iterable of next steps.\n",
              " */\n",
              "function* uploadFilesStep(inputId, outputId) {\n",
              "  const inputElement = document.getElementById(inputId);\n",
              "  inputElement.disabled = false;\n",
              "\n",
              "  const outputElement = document.getElementById(outputId);\n",
              "  outputElement.innerHTML = '';\n",
              "\n",
              "  const pickedPromise = new Promise((resolve) => {\n",
              "    inputElement.addEventListener('change', (e) => {\n",
              "      resolve(e.target.files);\n",
              "    });\n",
              "  });\n",
              "\n",
              "  const cancel = document.createElement('button');\n",
              "  inputElement.parentElement.appendChild(cancel);\n",
              "  cancel.textContent = 'Cancel upload';\n",
              "  const cancelPromise = new Promise((resolve) => {\n",
              "    cancel.onclick = () => {\n",
              "      resolve(null);\n",
              "    };\n",
              "  });\n",
              "\n",
              "  // Wait for the user to pick the files.\n",
              "  const files = yield {\n",
              "    promise: Promise.race([pickedPromise, cancelPromise]),\n",
              "    response: {\n",
              "      action: 'starting',\n",
              "    }\n",
              "  };\n",
              "\n",
              "  cancel.remove();\n",
              "\n",
              "  // Disable the input element since further picks are not allowed.\n",
              "  inputElement.disabled = true;\n",
              "\n",
              "  if (!files) {\n",
              "    return {\n",
              "      response: {\n",
              "        action: 'complete',\n",
              "      }\n",
              "    };\n",
              "  }\n",
              "\n",
              "  for (const file of files) {\n",
              "    const li = document.createElement('li');\n",
              "    li.append(span(file.name, {fontWeight: 'bold'}));\n",
              "    li.append(span(\n",
              "        `(${file.type || 'n/a'}) - ${file.size} bytes, ` +\n",
              "        `last modified: ${\n",
              "            file.lastModifiedDate ? file.lastModifiedDate.toLocaleDateString() :\n",
              "                                    'n/a'} - `));\n",
              "    const percent = span('0% done');\n",
              "    li.appendChild(percent);\n",
              "\n",
              "    outputElement.appendChild(li);\n",
              "\n",
              "    const fileDataPromise = new Promise((resolve) => {\n",
              "      const reader = new FileReader();\n",
              "      reader.onload = (e) => {\n",
              "        resolve(e.target.result);\n",
              "      };\n",
              "      reader.readAsArrayBuffer(file);\n",
              "    });\n",
              "    // Wait for the data to be ready.\n",
              "    let fileData = yield {\n",
              "      promise: fileDataPromise,\n",
              "      response: {\n",
              "        action: 'continue',\n",
              "      }\n",
              "    };\n",
              "\n",
              "    // Use a chunked sending to avoid message size limits. See b/62115660.\n",
              "    let position = 0;\n",
              "    do {\n",
              "      const length = Math.min(fileData.byteLength - position, MAX_PAYLOAD_SIZE);\n",
              "      const chunk = new Uint8Array(fileData, position, length);\n",
              "      position += length;\n",
              "\n",
              "      const base64 = btoa(String.fromCharCode.apply(null, chunk));\n",
              "      yield {\n",
              "        response: {\n",
              "          action: 'append',\n",
              "          file: file.name,\n",
              "          data: base64,\n",
              "        },\n",
              "      };\n",
              "\n",
              "      let percentDone = fileData.byteLength === 0 ?\n",
              "          100 :\n",
              "          Math.round((position / fileData.byteLength) * 100);\n",
              "      percent.textContent = `${percentDone}% done`;\n",
              "\n",
              "    } while (position < fileData.byteLength);\n",
              "  }\n",
              "\n",
              "  // All done.\n",
              "  yield {\n",
              "    response: {\n",
              "      action: 'complete',\n",
              "    }\n",
              "  };\n",
              "}\n",
              "\n",
              "scope.google = scope.google || {};\n",
              "scope.google.colab = scope.google.colab || {};\n",
              "scope.google.colab._files = {\n",
              "  _uploadFiles,\n",
              "  _uploadFilesContinue,\n",
              "};\n",
              "})(self);\n",
              "</script> "
            ]
          },
          "metadata": {}
        },
        {
          "output_type": "stream",
          "name": "stdout",
          "text": [
            "Saving X_test.csv to X_test.csv\n"
          ]
        }
      ]
    },
    {
      "cell_type": "markdown",
      "source": [
        "## Przetwarzanie danych"
      ],
      "metadata": {
        "id": "q0KAqlqgOn3F"
      }
    },
    {
      "cell_type": "markdown",
      "source": [
        "### Zbiór treningowy"
      ],
      "metadata": {
        "id": "p1LSd_F1sjU-"
      }
    },
    {
      "cell_type": "code",
      "source": [
        "# przypisanie zmiennych\n",
        "df_1 = pd.read_csv(\"df_1.csv\")\n",
        "df_2 = pd.read_csv(\"df_2.csv\")\n",
        "target = pd.read_csv(\"target.csv\")"
      ],
      "metadata": {
        "id": "I334J_aN1QOG"
      },
      "execution_count": 343,
      "outputs": []
    },
    {
      "cell_type": "code",
      "source": [
        "# łączenie tabel\n",
        "df_3 = df_1.merge(df_2, how='inner', on='EmployeeNumber')\n",
        "df = df_3.merge(target, how='inner', on='EmployeeNumber')\n",
        "df = df.drop(columns=['Unnamed: 0', 'Unnamed: 0_y', \"Unnamed: 0_x\", \"Over18\", \"StandardHours\"])"
      ],
      "metadata": {
        "id": "YXPBL6sF2XW0"
      },
      "execution_count": 344,
      "outputs": []
    },
    {
      "cell_type": "code",
      "source": [
        "# usuwanie szumów\n",
        "df = df[(df[\"TotalWorkingYears\"]<100)]\n",
        "df = df[(df[\"Age\"]<100)]\n",
        "df = df[(df[\"YearsAtCompany\"]<100)]\n",
        "df = df[(df[\"YearsInCurrentRole\"]<100)]\n",
        "df = df[(df[\"YearsSinceLastPromotion\"]<100)]\n",
        "df = df[(df[\"YearsWithCurrManager\"]<100)]\n",
        "df = df[(df[\"DistanceFromHome\"]<20000)]"
      ],
      "metadata": {
        "id": "X7bP69sc30lK"
      },
      "execution_count": 345,
      "outputs": []
    },
    {
      "cell_type": "code",
      "source": [
        "# encodowanie OHE\n",
        "df_ohe = pd.get_dummies(df)"
      ],
      "metadata": {
        "id": "WxsKWslSIUMI"
      },
      "execution_count": 346,
      "outputs": []
    },
    {
      "cell_type": "code",
      "source": [
        "# binaryzacja\n",
        "df_ohe = df_ohe.drop(columns=[\"Attrition_No\", \"OverTime_No\", \"Gender_Female\"])"
      ],
      "metadata": {
        "id": "EvtQ01FaJppY"
      },
      "execution_count": 347,
      "outputs": []
    },
    {
      "cell_type": "markdown",
      "source": [
        "### Zbiór testowy"
      ],
      "metadata": {
        "id": "fevk6z-BOkAz"
      }
    },
    {
      "cell_type": "code",
      "source": [
        "# przypisanie zmiennych\n",
        "X_test = pd.read_csv(\"X_test.csv\")"
      ],
      "metadata": {
        "id": "AW6_j-mzOho0"
      },
      "execution_count": 348,
      "outputs": []
    },
    {
      "cell_type": "code",
      "source": [
        "# usuwanie zbędnych kolumn\n",
        "X_test = X_test.drop(columns=[\"Over18\", \"StandardHours\"])"
      ],
      "metadata": {
        "id": "AxtT8vWqLes8"
      },
      "execution_count": 349,
      "outputs": []
    },
    {
      "cell_type": "code",
      "source": [
        "# encodowanie OHE\n",
        "X_test_ohe = pd.get_dummies(X_test)"
      ],
      "metadata": {
        "id": "TgZB24NMMjxg"
      },
      "execution_count": 350,
      "outputs": []
    },
    {
      "cell_type": "code",
      "source": [
        "# binaryzacja\n",
        "X_test_ohe = X_test_ohe.drop(columns=[\"OverTime_No\", \"Gender_Female\"])"
      ],
      "metadata": {
        "id": "-zV07AZnOxxC"
      },
      "execution_count": 351,
      "outputs": []
    },
    {
      "cell_type": "markdown",
      "source": [
        "## Modelowanie"
      ],
      "metadata": {
        "id": "mMNtO23_QENh"
      }
    },
    {
      "cell_type": "code",
      "source": [
        "# przypisanie zmiennych\n",
        "X_train = df_ohe.drop(columns=[\"Attrition_Yes\"]) # Zmienne niezależne\n",
        "y_train = df_ohe[\"Attrition_Yes\"] # Zmienna zależna"
      ],
      "metadata": {
        "id": "YKYzfUJ-PAFL"
      },
      "execution_count": 352,
      "outputs": []
    },
    {
      "cell_type": "code",
      "source": [
        "# podział na zbior testowy i treningowy w celach testowych\n",
        "\"\"\"\n",
        "X_train, X_test, y_train, y_test = train_test_split(X, y, test_size = 0.3, stratify = y, random_state = seed)\n",
        "\"\"\""
      ],
      "metadata": {
        "id": "U4Pte6doSVfH"
      },
      "execution_count": 296,
      "outputs": []
    },
    {
      "cell_type": "markdown",
      "source": [
        "### Random Forest"
      ],
      "metadata": {
        "id": "mOT_En2-Tle-"
      }
    },
    {
      "cell_type": "code",
      "source": [
        "clf = RandomForestClassifier(n_estimators = 100)\n",
        "\n",
        "clf.fit(X_train, y_train)\n",
        "y_pred_forest = clf.predict(X_test_ohe)"
      ],
      "metadata": {
        "id": "Be1G-6TRTKb8"
      },
      "execution_count": 390,
      "outputs": []
    },
    {
      "cell_type": "code",
      "source": [
        "# raport z klasyfikacji\n",
        "\"\"\"\n",
        "print(classification_report(y_test, y_pred_forest, labels = [0, 1], digits = 4))\n",
        "\"\"\""
      ],
      "metadata": {
        "colab": {
          "base_uri": "https://localhost:8080/"
        },
        "id": "94DoF-LPTM-j",
        "outputId": "267a06d3-dc20-4026-cda6-30f1e5d60da6"
      },
      "execution_count": 261,
      "outputs": [
        {
          "output_type": "stream",
          "name": "stdout",
          "text": [
            "              precision    recall  f1-score   support\n",
            "\n",
            "           0     0.7490    0.8506    0.7966       435\n",
            "           1     0.6934    0.5424    0.6087       271\n",
            "\n",
            "    accuracy                         0.7323       706\n",
            "   macro avg     0.7212    0.6965    0.7026       706\n",
            "weighted avg     0.7276    0.7323    0.7244       706\n",
            "\n"
          ]
        }
      ]
    },
    {
      "cell_type": "markdown",
      "source": [
        "### Decision Tree"
      ],
      "metadata": {
        "id": "RuryQwxDXQJj"
      }
    },
    {
      "cell_type": "code",
      "source": [
        "tree = DecisionTreeClassifier(random_state = seed)\n",
        "\n",
        "tree.fit(X_train, y_train)\n",
        "y_pred_tree = tree.predict(X_test_ohe)"
      ],
      "metadata": {
        "id": "hUQv05agTP8g"
      },
      "execution_count": 243,
      "outputs": []
    },
    {
      "cell_type": "code",
      "source": [
        "# raport z klasyfikacji\n",
        "\"\"\"\n",
        "print(classification_report(y_test, y_pred_tree, labels = [0, 1], digits = 4))\n",
        "\"\"\""
      ],
      "metadata": {
        "colab": {
          "base_uri": "https://localhost:8080/"
        },
        "id": "eDQdCeU2XZ44",
        "outputId": "204b00e2-4dab-40dc-dcd6-72811d31a740"
      },
      "execution_count": 244,
      "outputs": [
        {
          "output_type": "stream",
          "name": "stdout",
          "text": [
            "              precision    recall  f1-score   support\n",
            "\n",
            "           0     0.7517    0.7655    0.7585       435\n",
            "           1     0.6122    0.5941    0.6030       271\n",
            "\n",
            "    accuracy                         0.6997       706\n",
            "   macro avg     0.6819    0.6798    0.6808       706\n",
            "weighted avg     0.6981    0.6997    0.6988       706\n",
            "\n"
          ]
        }
      ]
    },
    {
      "cell_type": "markdown",
      "source": [
        "### Bagging"
      ],
      "metadata": {
        "id": "tO8PQSSlXvmt"
      }
    },
    {
      "cell_type": "code",
      "source": [
        "bclf = BaggingClassifier(n_estimators = 50, random_state = seed)\n",
        "bclf.fit(X_train, y_train)\n",
        "\n",
        "y_pred_bagging = bclf.predict(X_test_ohe)"
      ],
      "metadata": {
        "id": "I7KFZm1qXdn-"
      },
      "execution_count": 245,
      "outputs": []
    },
    {
      "cell_type": "code",
      "source": [
        "# raport z klasyfikacji\n",
        "\"\"\"\n",
        "print(classification_report(y_test, y_pred_bagging, labels = [0, 1], digits = 4))\n",
        "\"\"\""
      ],
      "metadata": {
        "colab": {
          "base_uri": "https://localhost:8080/"
        },
        "id": "YvqQsuC6X0tY",
        "outputId": "8fdb55cb-67eb-42d2-87cf-6605d8cd136a"
      },
      "execution_count": 246,
      "outputs": [
        {
          "output_type": "stream",
          "name": "stdout",
          "text": [
            "              precision    recall  f1-score   support\n",
            "\n",
            "           0     0.7735    0.8322    0.8018       435\n",
            "           1     0.6933    0.6089    0.6483       271\n",
            "\n",
            "    accuracy                         0.7465       706\n",
            "   macro avg     0.7334    0.7205    0.7251       706\n",
            "weighted avg     0.7427    0.7465    0.7429       706\n",
            "\n"
          ]
        }
      ]
    },
    {
      "cell_type": "markdown",
      "source": [
        "### AdaBoost"
      ],
      "metadata": {
        "id": "S5pYC3I6Y-eB"
      }
    },
    {
      "cell_type": "code",
      "source": [
        "clf = AdaBoostClassifier(estimator = DecisionTreeClassifier(max_depth = 2), n_estimators = 10, learning_rate = 0.01)\n",
        "\n",
        "clf.fit(X_train, y_train)\n",
        "\n",
        "y_pred_adaboost = clf.predict(X_test_ohe)"
      ],
      "metadata": {
        "id": "RuomlghqZAFF"
      },
      "execution_count": 376,
      "outputs": []
    },
    {
      "cell_type": "code",
      "source": [
        "# raport z klasyfikacji\n",
        "\"\"\"\n",
        "print(classification_report(y_test, y_pred_adaboost, labels = [0, 1], digits = 4))\n",
        "\"\"\""
      ],
      "metadata": {
        "colab": {
          "base_uri": "https://localhost:8080/"
        },
        "id": "GFRISKVSZBlr",
        "outputId": "ad522984-0f2e-4583-e7b5-ac77b331ffb1"
      },
      "execution_count": 298,
      "outputs": [
        {
          "output_type": "stream",
          "name": "stdout",
          "text": [
            "              precision    recall  f1-score   support\n",
            "\n",
            "           0     0.8204    0.7770    0.7981       435\n",
            "           1     0.6701    0.7269    0.6973       271\n",
            "\n",
            "    accuracy                         0.7578       706\n",
            "   macro avg     0.7452    0.7520    0.7477       706\n",
            "weighted avg     0.7627    0.7578    0.7594       706\n",
            "\n"
          ]
        }
      ]
    },
    {
      "cell_type": "markdown",
      "source": [
        "## Kroswalidacja"
      ],
      "metadata": {
        "id": "rt-DzdvFutga"
      }
    },
    {
      "cell_type": "code",
      "source": [
        "param_grid = {\n",
        "    \"n_estimators\" : [5, 10, 100, 200, 500, 1000],\n",
        "    \"learning_rate\" : [0.0001, 0.001, 0.01, 0.1, 1]\n",
        "}\n",
        "\n",
        "\n",
        "from sklearn.model_selection import GridSearchCV\n",
        "\n",
        "cv = GridSearchCV(estimator = clf, param_grid = param_grid, scoring = \"f1\", cv = 5)\n",
        "cv.fit(X_train, y_train)"
      ],
      "metadata": {
        "colab": {
          "base_uri": "https://localhost:8080/",
          "height": 157
        },
        "id": "57ZLBUofZELq",
        "outputId": "51eebf92-b5bb-498e-8b4e-5cc945a4ba7c"
      },
      "execution_count": 373,
      "outputs": [
        {
          "output_type": "execute_result",
          "data": {
            "text/plain": [
              "GridSearchCV(cv=5,\n",
              "             estimator=AdaBoostClassifier(estimator=DecisionTreeClassifier(max_depth=2),\n",
              "                                          learning_rate=0.01,\n",
              "                                          n_estimators=1000),\n",
              "             param_grid={'learning_rate': [0.0001, 0.001, 0.01, 0.1, 1],\n",
              "                         'n_estimators': [5, 10, 100, 200, 500, 1000]},\n",
              "             scoring='f1')"
            ],
            "text/html": [
              "<style>#sk-container-id-3 {color: black;background-color: white;}#sk-container-id-3 pre{padding: 0;}#sk-container-id-3 div.sk-toggleable {background-color: white;}#sk-container-id-3 label.sk-toggleable__label {cursor: pointer;display: block;width: 100%;margin-bottom: 0;padding: 0.3em;box-sizing: border-box;text-align: center;}#sk-container-id-3 label.sk-toggleable__label-arrow:before {content: \"▸\";float: left;margin-right: 0.25em;color: #696969;}#sk-container-id-3 label.sk-toggleable__label-arrow:hover:before {color: black;}#sk-container-id-3 div.sk-estimator:hover label.sk-toggleable__label-arrow:before {color: black;}#sk-container-id-3 div.sk-toggleable__content {max-height: 0;max-width: 0;overflow: hidden;text-align: left;background-color: #f0f8ff;}#sk-container-id-3 div.sk-toggleable__content pre {margin: 0.2em;color: black;border-radius: 0.25em;background-color: #f0f8ff;}#sk-container-id-3 input.sk-toggleable__control:checked~div.sk-toggleable__content {max-height: 200px;max-width: 100%;overflow: auto;}#sk-container-id-3 input.sk-toggleable__control:checked~label.sk-toggleable__label-arrow:before {content: \"▾\";}#sk-container-id-3 div.sk-estimator input.sk-toggleable__control:checked~label.sk-toggleable__label {background-color: #d4ebff;}#sk-container-id-3 div.sk-label input.sk-toggleable__control:checked~label.sk-toggleable__label {background-color: #d4ebff;}#sk-container-id-3 input.sk-hidden--visually {border: 0;clip: rect(1px 1px 1px 1px);clip: rect(1px, 1px, 1px, 1px);height: 1px;margin: -1px;overflow: hidden;padding: 0;position: absolute;width: 1px;}#sk-container-id-3 div.sk-estimator {font-family: monospace;background-color: #f0f8ff;border: 1px dotted black;border-radius: 0.25em;box-sizing: border-box;margin-bottom: 0.5em;}#sk-container-id-3 div.sk-estimator:hover {background-color: #d4ebff;}#sk-container-id-3 div.sk-parallel-item::after {content: \"\";width: 100%;border-bottom: 1px solid gray;flex-grow: 1;}#sk-container-id-3 div.sk-label:hover label.sk-toggleable__label {background-color: #d4ebff;}#sk-container-id-3 div.sk-serial::before {content: \"\";position: absolute;border-left: 1px solid gray;box-sizing: border-box;top: 0;bottom: 0;left: 50%;z-index: 0;}#sk-container-id-3 div.sk-serial {display: flex;flex-direction: column;align-items: center;background-color: white;padding-right: 0.2em;padding-left: 0.2em;position: relative;}#sk-container-id-3 div.sk-item {position: relative;z-index: 1;}#sk-container-id-3 div.sk-parallel {display: flex;align-items: stretch;justify-content: center;background-color: white;position: relative;}#sk-container-id-3 div.sk-item::before, #sk-container-id-3 div.sk-parallel-item::before {content: \"\";position: absolute;border-left: 1px solid gray;box-sizing: border-box;top: 0;bottom: 0;left: 50%;z-index: -1;}#sk-container-id-3 div.sk-parallel-item {display: flex;flex-direction: column;z-index: 1;position: relative;background-color: white;}#sk-container-id-3 div.sk-parallel-item:first-child::after {align-self: flex-end;width: 50%;}#sk-container-id-3 div.sk-parallel-item:last-child::after {align-self: flex-start;width: 50%;}#sk-container-id-3 div.sk-parallel-item:only-child::after {width: 0;}#sk-container-id-3 div.sk-dashed-wrapped {border: 1px dashed gray;margin: 0 0.4em 0.5em 0.4em;box-sizing: border-box;padding-bottom: 0.4em;background-color: white;}#sk-container-id-3 div.sk-label label {font-family: monospace;font-weight: bold;display: inline-block;line-height: 1.2em;}#sk-container-id-3 div.sk-label-container {text-align: center;}#sk-container-id-3 div.sk-container {/* jupyter's `normalize.less` sets `[hidden] { display: none; }` but bootstrap.min.css set `[hidden] { display: none !important; }` so we also need the `!important` here to be able to override the default hidden behavior on the sphinx rendered scikit-learn.org. See: https://github.com/scikit-learn/scikit-learn/issues/21755 */display: inline-block !important;position: relative;}#sk-container-id-3 div.sk-text-repr-fallback {display: none;}</style><div id=\"sk-container-id-3\" class=\"sk-top-container\"><div class=\"sk-text-repr-fallback\"><pre>GridSearchCV(cv=5,\n",
              "             estimator=AdaBoostClassifier(estimator=DecisionTreeClassifier(max_depth=2),\n",
              "                                          learning_rate=0.01,\n",
              "                                          n_estimators=1000),\n",
              "             param_grid={&#x27;learning_rate&#x27;: [0.0001, 0.001, 0.01, 0.1, 1],\n",
              "                         &#x27;n_estimators&#x27;: [5, 10, 100, 200, 500, 1000]},\n",
              "             scoring=&#x27;f1&#x27;)</pre><b>In a Jupyter environment, please rerun this cell to show the HTML representation or trust the notebook. <br />On GitHub, the HTML representation is unable to render, please try loading this page with nbviewer.org.</b></div><div class=\"sk-container\" hidden><div class=\"sk-item sk-dashed-wrapped\"><div class=\"sk-label-container\"><div class=\"sk-label sk-toggleable\"><input class=\"sk-toggleable__control sk-hidden--visually\" id=\"sk-estimator-id-9\" type=\"checkbox\" ><label for=\"sk-estimator-id-9\" class=\"sk-toggleable__label sk-toggleable__label-arrow\">GridSearchCV</label><div class=\"sk-toggleable__content\"><pre>GridSearchCV(cv=5,\n",
              "             estimator=AdaBoostClassifier(estimator=DecisionTreeClassifier(max_depth=2),\n",
              "                                          learning_rate=0.01,\n",
              "                                          n_estimators=1000),\n",
              "             param_grid={&#x27;learning_rate&#x27;: [0.0001, 0.001, 0.01, 0.1, 1],\n",
              "                         &#x27;n_estimators&#x27;: [5, 10, 100, 200, 500, 1000]},\n",
              "             scoring=&#x27;f1&#x27;)</pre></div></div></div><div class=\"sk-parallel\"><div class=\"sk-parallel-item\"><div class=\"sk-item\"><div class=\"sk-label-container\"><div class=\"sk-label sk-toggleable\"><input class=\"sk-toggleable__control sk-hidden--visually\" id=\"sk-estimator-id-10\" type=\"checkbox\" ><label for=\"sk-estimator-id-10\" class=\"sk-toggleable__label sk-toggleable__label-arrow\">estimator: AdaBoostClassifier</label><div class=\"sk-toggleable__content\"><pre>AdaBoostClassifier(estimator=DecisionTreeClassifier(max_depth=2),\n",
              "                   learning_rate=0.01, n_estimators=1000)</pre></div></div></div><div class=\"sk-serial\"><div class=\"sk-item sk-dashed-wrapped\"><div class=\"sk-parallel\"><div class=\"sk-parallel-item\"><div class=\"sk-item\"><div class=\"sk-label-container\"><div class=\"sk-label sk-toggleable\"><input class=\"sk-toggleable__control sk-hidden--visually\" id=\"sk-estimator-id-11\" type=\"checkbox\" ><label for=\"sk-estimator-id-11\" class=\"sk-toggleable__label sk-toggleable__label-arrow\">estimator: DecisionTreeClassifier</label><div class=\"sk-toggleable__content\"><pre>DecisionTreeClassifier(max_depth=2)</pre></div></div></div><div class=\"sk-serial\"><div class=\"sk-item\"><div class=\"sk-estimator sk-toggleable\"><input class=\"sk-toggleable__control sk-hidden--visually\" id=\"sk-estimator-id-12\" type=\"checkbox\" ><label for=\"sk-estimator-id-12\" class=\"sk-toggleable__label sk-toggleable__label-arrow\">DecisionTreeClassifier</label><div class=\"sk-toggleable__content\"><pre>DecisionTreeClassifier(max_depth=2)</pre></div></div></div></div></div></div></div></div></div></div></div></div></div></div></div>"
            ]
          },
          "metadata": {},
          "execution_count": 373
        }
      ]
    },
    {
      "cell_type": "code",
      "source": [
        "print(f\"Best parameters: {cv.best_params_}\")"
      ],
      "metadata": {
        "colab": {
          "base_uri": "https://localhost:8080/"
        },
        "id": "gP0NgtkbZ5ab",
        "outputId": "373be93b-ea5b-4d4a-dca1-0440521214b8"
      },
      "execution_count": 374,
      "outputs": [
        {
          "output_type": "stream",
          "name": "stdout",
          "text": [
            "Best parameters: {'learning_rate': 0.01, 'n_estimators': 10}\n"
          ]
        }
      ]
    },
    {
      "cell_type": "markdown",
      "source": [
        "## Predykcja"
      ],
      "metadata": {
        "id": "feR9is0Sp7h_"
      }
    },
    {
      "cell_type": "code",
      "source": [
        "# przypisanie wyników predykcji\n",
        "# y_pred_best = y_pred_forest\n",
        "y_pred_best = y_pred_adaboost"
      ],
      "metadata": {
        "id": "SREC_sYTa3lX"
      },
      "execution_count": 391,
      "outputs": []
    },
    {
      "cell_type": "code",
      "source": [
        "# stworzenie nowej kolumny predykcji\n",
        "# 0 - został w pracy, \n",
        "# 1 - odszedł z pracy\n",
        "X_test[\"prediction\"] = y_pred_best\n",
        "\n",
        "map_class = {\n",
        "    0 : 0,\n",
        "    1 : 1\n",
        "}"
      ],
      "metadata": {
        "id": "UvSqgpcsbxUj"
      },
      "execution_count": 392,
      "outputs": []
    },
    {
      "cell_type": "code",
      "source": [
        "# mapowanie zmiennej\n",
        "X_test[\"prediction\"] = X_test[\"prediction\"].map(map_class)"
      ],
      "metadata": {
        "id": "ntb5TRWGb-y9"
      },
      "execution_count": 393,
      "outputs": []
    },
    {
      "cell_type": "code",
      "source": [
        "# utworzenie tabeli wynikowej\n",
        "X_test_pred_rf_2 = X_test[['EmployeeNumber', 'prediction']]\n",
        "X_test_pred_rf_2"
      ],
      "metadata": {
        "id": "57Q0JluGhGV6"
      },
      "execution_count": 395,
      "outputs": []
    },
    {
      "cell_type": "code",
      "source": [
        "# zapisanie tabeli wynikowej do nowego pliku\n",
        "X_test_pred_rf_2.to_csv(\"X_test_pred_rf_2.csv\")"
      ],
      "metadata": {
        "id": "U-T9VRkLiXbF"
      },
      "execution_count": 396,
      "outputs": []
    }
  ]
}